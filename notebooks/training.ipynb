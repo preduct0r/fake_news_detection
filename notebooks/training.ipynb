{
 "cells": [
  {
   "cell_type": "code",
   "execution_count": 2,
   "id": "568d214d-3e31-4961-b5fc-d989d988ba26",
   "metadata": {},
   "outputs": [],
   "source": [
    "import os \n",
    "\n",
    "os.environ[\"CUDA_VISIBLE_DEVICES\"] = '1'\n",
    "os.environ[\"NVIDIA_VISIBLE_DEVICES\"] = '1'\n",
    "\n",
    "import pandas as pd"
   ]
  },
  {
   "cell_type": "code",
   "execution_count": 3,
   "id": "b693bea1-13f5-48db-9566-d65dee19ea37",
   "metadata": {},
   "outputs": [],
   "source": [
    "df = pd.read_csv('../data/all_data.csv')\n",
    "df_runews = df[df.dataset_name == 'Kaggle Russian News Dataset'][['sample', 'label']]\n",
    "df_runews.label = df_runews.label.apply(lambda x: {'negative':0, 'positive':1, 'neutral':1}[x])\n",
    "df_runews['sample'] = df_runews['sample'].apply(lambda x: x.replace('\\n', ' '))\n",
    "df_runews.reset_index(drop=True, inplace=True)"
   ]
  },
  {
   "cell_type": "code",
   "execution_count": 4,
   "id": "4145848b-6f80-4160-8f14-d9a4b24d63d7",
   "metadata": {},
   "outputs": [
    {
     "data": {
      "text/html": [
       "<div>\n",
       "<style scoped>\n",
       "    .dataframe tbody tr th:only-of-type {\n",
       "        vertical-align: middle;\n",
       "    }\n",
       "\n",
       "    .dataframe tbody tr th {\n",
       "        vertical-align: top;\n",
       "    }\n",
       "\n",
       "    .dataframe thead th {\n",
       "        text-align: right;\n",
       "    }\n",
       "</style>\n",
       "<table border=\"1\" class=\"dataframe\">\n",
       "  <thead>\n",
       "    <tr style=\"text-align: right;\">\n",
       "      <th></th>\n",
       "      <th>sample</th>\n",
       "      <th>label</th>\n",
       "    </tr>\n",
       "  </thead>\n",
       "  <tbody>\n",
       "    <tr>\n",
       "      <th>0</th>\n",
       "      <td>Досудебное расследование по факту покупки ЕНПФ...</td>\n",
       "      <td>0</td>\n",
       "    </tr>\n",
       "    <tr>\n",
       "      <th>1</th>\n",
       "      <td>Медики рассказали о состоянии пострадавшего му...</td>\n",
       "      <td>0</td>\n",
       "    </tr>\n",
       "    <tr>\n",
       "      <th>2</th>\n",
       "      <td>Прошел почти год, как железнодорожным оператор...</td>\n",
       "      <td>0</td>\n",
       "    </tr>\n",
       "    <tr>\n",
       "      <th>3</th>\n",
       "      <td>По итогам 12 месяцев 2016 года на территории р...</td>\n",
       "      <td>0</td>\n",
       "    </tr>\n",
       "    <tr>\n",
       "      <th>4</th>\n",
       "      <td>Астана. 21 ноября. Kazakhstan Today - Агентств...</td>\n",
       "      <td>0</td>\n",
       "    </tr>\n",
       "  </tbody>\n",
       "</table>\n",
       "</div>"
      ],
      "text/plain": [
       "                                              sample  label\n",
       "0  Досудебное расследование по факту покупки ЕНПФ...      0\n",
       "1  Медики рассказали о состоянии пострадавшего му...      0\n",
       "2  Прошел почти год, как железнодорожным оператор...      0\n",
       "3  По итогам 12 месяцев 2016 года на территории р...      0\n",
       "4  Астана. 21 ноября. Kazakhstan Today - Агентств...      0"
      ]
     },
     "execution_count": 4,
     "metadata": {},
     "output_type": "execute_result"
    }
   ],
   "source": [
    "df_runews.head()"
   ]
  },
  {
   "cell_type": "code",
   "execution_count": 5,
   "id": "c2c87fe7-5776-44e2-882b-b31d23ee5ccd",
   "metadata": {},
   "outputs": [
    {
     "name": "stderr",
     "output_type": "stream",
     "text": [
      "Some weights of the model checkpoint at sberbank-ai/ruRoberta-large were not used when initializing RobertaForSequenceClassification: ['lm_head.layer_norm.weight', 'lm_head.decoder.weight', 'lm_head.dense.bias', 'lm_head.dense.weight', 'lm_head.bias', 'lm_head.layer_norm.bias', 'lm_head.decoder.bias']\n",
      "- This IS expected if you are initializing RobertaForSequenceClassification from the checkpoint of a model trained on another task or with another architecture (e.g. initializing a BertForSequenceClassification model from a BertForPreTraining model).\n",
      "- This IS NOT expected if you are initializing RobertaForSequenceClassification from the checkpoint of a model that you expect to be exactly identical (initializing a BertForSequenceClassification model from a BertForSequenceClassification model).\n",
      "Some weights of RobertaForSequenceClassification were not initialized from the model checkpoint at sberbank-ai/ruRoberta-large and are newly initialized: ['classifier.dense.bias', 'classifier.out_proj.weight', 'classifier.out_proj.bias', 'classifier.dense.weight']\n",
      "You should probably TRAIN this model on a down-stream task to be able to use it for predictions and inference.\n"
     ]
    }
   ],
   "source": [
    "from transformers import AutoTokenizer, AutoModelForSequenceClassification\n",
    "\n",
    "tokenizer = AutoTokenizer.from_pretrained(\"sberbank-ai/ruRoberta-large\")\n",
    "model = AutoModelForSequenceClassification.from_pretrained(\"sberbank-ai/ruRoberta-large\", num_labels=2).cuda()"
   ]
  },
  {
   "cell_type": "code",
   "execution_count": 6,
   "id": "51c706f5",
   "metadata": {},
   "outputs": [],
   "source": [
    "from typing import List, Union\n",
    "\n",
    "import torch\n",
    "import tqdm\n",
    "from torch.utils.data import Dataset\n",
    "from transformers import PreTrainedTokenizer, PreTrainedTokenizerFast\n",
    "\n",
    "\n",
    "class LabeledDataset(Dataset):\n",
    "    def __init__(\n",
    "        self,\n",
    "        dataframe: pd.DataFrame,\n",
    "        tokenizer: Union[PreTrainedTokenizerFast, PreTrainedTokenizer],\n",
    "        max_tokens: int = 512,\n",
    "        text_field=\"text\",\n",
    "        res_field=\"label\",\n",
    "    ):\n",
    "        self.tokenizer = tokenizer\n",
    "        self.max_tokens = max_tokens\n",
    "        self.text_field = text_field\n",
    "        self.res_field = res_field\n",
    "        self.dataframe = dataframe\n",
    "\n",
    "    def embed_record(self, text):\n",
    "        inputs = self.tokenizer(\n",
    "            text=text,\n",
    "            add_special_tokens=True,\n",
    "            max_length=self.max_tokens,\n",
    "            padding=\"max_length\",\n",
    "            truncation=\"longest_first\",\n",
    "            return_tensors=\"pt\",\n",
    "        )\n",
    "        return {key: value.squeeze(0) for key, value in inputs.items()}\n",
    "\n",
    "    def __len__(self):\n",
    "        return self.dataframe.shape[0]\n",
    "\n",
    "    def __getitem__(self, index):\n",
    "        inputs = self.embed_record(self.dataframe.iloc[index][self.text_field])\n",
    "        inputs[\"labels\"] = torch.LongTensor(\n",
    "            [self.dataframe.iloc[index][self.res_field]]\n",
    "        )\n",
    "        return inputs\n"
   ]
  },
  {
   "cell_type": "code",
   "execution_count": 7,
   "id": "d3aa0e99-83fa-4ed2-887e-15e4d477b397",
   "metadata": {},
   "outputs": [
    {
     "name": "stderr",
     "output_type": "stream",
     "text": [
      "/home/moskovskii/anaconda3/lib/python3.9/site-packages/scipy/__init__.py:146: UserWarning: A NumPy version >=1.16.5 and <1.23.0 is required for this version of SciPy (detected version 1.23.2\n",
      "  warnings.warn(f\"A NumPy version >={np_minversion} and <{np_maxversion}\"\n"
     ]
    }
   ],
   "source": [
    "from pandas import DataFrame\n",
    "from sklearn.model_selection import train_test_split\n",
    "from transformers import set_seed\n",
    "\n",
    "set_seed(42)\n",
    "train_ids, valid_ids = train_test_split(df_runews.index, test_size=0.1, random_state=42)\n",
    "trainset = LabeledDataset(dataframe = df_runews.iloc[train_ids], tokenizer=tokenizer, text_field='sample', res_field='label', max_tokens=512) \n",
    "valset = LabeledDataset(dataframe = df_runews.iloc[valid_ids], tokenizer=tokenizer, text_field='sample', res_field='label', max_tokens=512)"
   ]
  },
  {
   "cell_type": "code",
   "execution_count": 8,
   "id": "bc060483-c7bd-4f40-9c19-27e3fd351a08",
   "metadata": {},
   "outputs": [],
   "source": [
    "from transformers import TrainingArguments\n",
    "\n",
    "training_args = TrainingArguments(\n",
    "    output_dir=\"../logs/sentiment_experiments/ruroberta_runews_2class_512\",\n",
    "    do_train=True,\n",
    "    do_eval=True,\n",
    "    evaluation_strategy='epoch',\n",
    "    save_strategy='epoch',\n",
    "    per_device_train_batch_size=8,\n",
    "    per_device_eval_batch_size=8,\n",
    "    learning_rate=5e-6,\n",
    "    weight_decay=1e-6,\n",
    "    num_train_epochs=10\n",
    ")"
   ]
  },
  {
   "cell_type": "code",
   "execution_count": 9,
   "id": "b5af986d-5e27-4a5e-9481-c54f1bd5d231",
   "metadata": {},
   "outputs": [],
   "source": [
    "from sklearn.metrics import classification_report\n",
    "import numpy as np\n",
    "import evaluate\n",
    "\n",
    "def compute_metrics(eval_pred):\n",
    "    f1_score = evaluate.load(\"f1\")\n",
    "    logits, labels = eval_pred\n",
    "    predictions = np.argmax(logits, axis=-1)\n",
    "    print(classification_report(labels, predictions))\n",
    "    return f1_score.compute(predictions=predictions, references=labels)"
   ]
  },
  {
   "cell_type": "code",
   "execution_count": 10,
   "id": "1cbc68dd-022f-4ec6-a17b-b088c9c993bd",
   "metadata": {},
   "outputs": [],
   "source": [
    "from transformers import Trainer \n",
    "\n",
    "trainer = Trainer(\n",
    "    model=model,\n",
    "    args=training_args,\n",
    "    train_dataset=trainset,\n",
    "    eval_dataset=valset,\n",
    "    compute_metrics=compute_metrics,\n",
    ")\n"
   ]
  },
  {
   "cell_type": "code",
   "execution_count": 11,
   "id": "9b27e36b-fefd-427e-866f-3f921d463cb8",
   "metadata": {},
   "outputs": [
    {
     "name": "stderr",
     "output_type": "stream",
     "text": [
      "/home/moskovskii/anaconda3/lib/python3.9/site-packages/transformers/optimization.py:306: FutureWarning: This implementation of AdamW is deprecated and will be removed in a future version. Use the PyTorch implementation torch.optim.AdamW instead, or set `no_deprecation_warning=True` to disable this warning\n",
      "  warnings.warn(\n",
      "***** Running training *****\n",
      "  Num examples = 7436\n",
      "  Num Epochs = 10\n",
      "  Instantaneous batch size per device = 8\n",
      "  Total train batch size (w. parallel, distributed & accumulation) = 8\n",
      "  Gradient Accumulation steps = 1\n",
      "  Total optimization steps = 9300\n"
     ]
    },
    {
     "data": {
      "text/html": [
       "\n",
       "    <div>\n",
       "      \n",
       "      <progress value='9300' max='9300' style='width:300px; height:20px; vertical-align: middle;'></progress>\n",
       "      [9300/9300 1:30:53, Epoch 10/10]\n",
       "    </div>\n",
       "    <table border=\"1\" class=\"dataframe\">\n",
       "  <thead>\n",
       " <tr style=\"text-align: left;\">\n",
       "      <th>Epoch</th>\n",
       "      <th>Training Loss</th>\n",
       "      <th>Validation Loss</th>\n",
       "      <th>F1</th>\n",
       "    </tr>\n",
       "  </thead>\n",
       "  <tbody>\n",
       "    <tr>\n",
       "      <td>1</td>\n",
       "      <td>0.351800</td>\n",
       "      <td>0.273760</td>\n",
       "      <td>0.936351</td>\n",
       "    </tr>\n",
       "    <tr>\n",
       "      <td>2</td>\n",
       "      <td>0.265700</td>\n",
       "      <td>0.300262</td>\n",
       "      <td>0.938571</td>\n",
       "    </tr>\n",
       "    <tr>\n",
       "      <td>3</td>\n",
       "      <td>0.231200</td>\n",
       "      <td>0.379399</td>\n",
       "      <td>0.931365</td>\n",
       "    </tr>\n",
       "    <tr>\n",
       "      <td>4</td>\n",
       "      <td>0.176200</td>\n",
       "      <td>0.409592</td>\n",
       "      <td>0.931852</td>\n",
       "    </tr>\n",
       "    <tr>\n",
       "      <td>5</td>\n",
       "      <td>0.153700</td>\n",
       "      <td>0.448781</td>\n",
       "      <td>0.942629</td>\n",
       "    </tr>\n",
       "    <tr>\n",
       "      <td>6</td>\n",
       "      <td>0.132600</td>\n",
       "      <td>0.527180</td>\n",
       "      <td>0.939971</td>\n",
       "    </tr>\n",
       "    <tr>\n",
       "      <td>7</td>\n",
       "      <td>0.131600</td>\n",
       "      <td>0.494255</td>\n",
       "      <td>0.943149</td>\n",
       "    </tr>\n",
       "    <tr>\n",
       "      <td>8</td>\n",
       "      <td>0.087100</td>\n",
       "      <td>0.558569</td>\n",
       "      <td>0.946619</td>\n",
       "    </tr>\n",
       "    <tr>\n",
       "      <td>9</td>\n",
       "      <td>0.082800</td>\n",
       "      <td>0.568665</td>\n",
       "      <td>0.940833</td>\n",
       "    </tr>\n",
       "    <tr>\n",
       "      <td>10</td>\n",
       "      <td>0.063100</td>\n",
       "      <td>0.562223</td>\n",
       "      <td>0.943231</td>\n",
       "    </tr>\n",
       "  </tbody>\n",
       "</table><p>"
      ],
      "text/plain": [
       "<IPython.core.display.HTML object>"
      ]
     },
     "metadata": {},
     "output_type": "display_data"
    },
    {
     "name": "stderr",
     "output_type": "stream",
     "text": [
      "***** Running Evaluation *****\n",
      "  Num examples = 827\n",
      "  Batch size = 8\n"
     ]
    },
    {
     "name": "stdout",
     "output_type": "stream",
     "text": [
      "              precision    recall  f1-score   support\n",
      "\n",
      "           0       0.71      0.56      0.62       134\n",
      "           1       0.92      0.96      0.94       693\n",
      "\n",
      "    accuracy                           0.89       827\n",
      "   macro avg       0.81      0.76      0.78       827\n",
      "weighted avg       0.88      0.89      0.89       827\n",
      "\n"
     ]
    },
    {
     "name": "stderr",
     "output_type": "stream",
     "text": [
      "Saving model checkpoint to ../logs/sentiment_experiments/ruroberta_runews_2class_512/checkpoint-930\n",
      "Configuration saved in ../logs/sentiment_experiments/ruroberta_runews_2class_512/checkpoint-930/config.json\n",
      "Model weights saved in ../logs/sentiment_experiments/ruroberta_runews_2class_512/checkpoint-930/pytorch_model.bin\n",
      "***** Running Evaluation *****\n",
      "  Num examples = 827\n",
      "  Batch size = 8\n"
     ]
    },
    {
     "name": "stdout",
     "output_type": "stream",
     "text": [
      "              precision    recall  f1-score   support\n",
      "\n",
      "           0       0.70      0.63      0.66       134\n",
      "           1       0.93      0.95      0.94       693\n",
      "\n",
      "    accuracy                           0.90       827\n",
      "   macro avg       0.81      0.79      0.80       827\n",
      "weighted avg       0.89      0.90      0.89       827\n",
      "\n"
     ]
    },
    {
     "name": "stderr",
     "output_type": "stream",
     "text": [
      "Saving model checkpoint to ../logs/sentiment_experiments/ruroberta_runews_2class_512/checkpoint-1860\n",
      "Configuration saved in ../logs/sentiment_experiments/ruroberta_runews_2class_512/checkpoint-1860/config.json\n",
      "Model weights saved in ../logs/sentiment_experiments/ruroberta_runews_2class_512/checkpoint-1860/pytorch_model.bin\n",
      "***** Running Evaluation *****\n",
      "  Num examples = 827\n",
      "  Batch size = 8\n"
     ]
    },
    {
     "name": "stdout",
     "output_type": "stream",
     "text": [
      "              precision    recall  f1-score   support\n",
      "\n",
      "           0       0.62      0.77      0.69       134\n",
      "           1       0.95      0.91      0.93       693\n",
      "\n",
      "    accuracy                           0.89       827\n",
      "   macro avg       0.79      0.84      0.81       827\n",
      "weighted avg       0.90      0.89      0.89       827\n",
      "\n"
     ]
    },
    {
     "name": "stderr",
     "output_type": "stream",
     "text": [
      "Saving model checkpoint to ../logs/sentiment_experiments/ruroberta_runews_2class_512/checkpoint-2790\n",
      "Configuration saved in ../logs/sentiment_experiments/ruroberta_runews_2class_512/checkpoint-2790/config.json\n",
      "Model weights saved in ../logs/sentiment_experiments/ruroberta_runews_2class_512/checkpoint-2790/pytorch_model.bin\n",
      "***** Running Evaluation *****\n",
      "  Num examples = 827\n",
      "  Batch size = 8\n"
     ]
    },
    {
     "name": "stdout",
     "output_type": "stream",
     "text": [
      "              precision    recall  f1-score   support\n",
      "\n",
      "           0       0.62      0.79      0.70       134\n",
      "           1       0.96      0.91      0.93       693\n",
      "\n",
      "    accuracy                           0.89       827\n",
      "   macro avg       0.79      0.85      0.81       827\n",
      "weighted avg       0.90      0.89      0.89       827\n",
      "\n"
     ]
    },
    {
     "name": "stderr",
     "output_type": "stream",
     "text": [
      "Saving model checkpoint to ../logs/sentiment_experiments/ruroberta_runews_2class_512/checkpoint-3720\n",
      "Configuration saved in ../logs/sentiment_experiments/ruroberta_runews_2class_512/checkpoint-3720/config.json\n",
      "Model weights saved in ../logs/sentiment_experiments/ruroberta_runews_2class_512/checkpoint-3720/pytorch_model.bin\n",
      "***** Running Evaluation *****\n",
      "  Num examples = 827\n",
      "  Batch size = 8\n"
     ]
    },
    {
     "name": "stdout",
     "output_type": "stream",
     "text": [
      "              precision    recall  f1-score   support\n",
      "\n",
      "           0       0.69      0.74      0.71       134\n",
      "           1       0.95      0.94      0.94       693\n",
      "\n",
      "    accuracy                           0.90       827\n",
      "   macro avg       0.82      0.84      0.83       827\n",
      "weighted avg       0.91      0.90      0.91       827\n",
      "\n"
     ]
    },
    {
     "name": "stderr",
     "output_type": "stream",
     "text": [
      "Saving model checkpoint to ../logs/sentiment_experiments/ruroberta_runews_2class_512/checkpoint-4650\n",
      "Configuration saved in ../logs/sentiment_experiments/ruroberta_runews_2class_512/checkpoint-4650/config.json\n",
      "Model weights saved in ../logs/sentiment_experiments/ruroberta_runews_2class_512/checkpoint-4650/pytorch_model.bin\n",
      "***** Running Evaluation *****\n",
      "  Num examples = 827\n",
      "  Batch size = 8\n"
     ]
    },
    {
     "name": "stdout",
     "output_type": "stream",
     "text": [
      "              precision    recall  f1-score   support\n",
      "\n",
      "           0       0.67      0.77      0.72       134\n",
      "           1       0.95      0.93      0.94       693\n",
      "\n",
      "    accuracy                           0.90       827\n",
      "   macro avg       0.81      0.85      0.83       827\n",
      "weighted avg       0.91      0.90      0.90       827\n",
      "\n"
     ]
    },
    {
     "name": "stderr",
     "output_type": "stream",
     "text": [
      "Saving model checkpoint to ../logs/sentiment_experiments/ruroberta_runews_2class_512/checkpoint-5580\n",
      "Configuration saved in ../logs/sentiment_experiments/ruroberta_runews_2class_512/checkpoint-5580/config.json\n",
      "Model weights saved in ../logs/sentiment_experiments/ruroberta_runews_2class_512/checkpoint-5580/pytorch_model.bin\n",
      "***** Running Evaluation *****\n",
      "  Num examples = 827\n",
      "  Batch size = 8\n"
     ]
    },
    {
     "name": "stdout",
     "output_type": "stream",
     "text": [
      "              precision    recall  f1-score   support\n",
      "\n",
      "           0       0.69      0.76      0.72       134\n",
      "           1       0.95      0.93      0.94       693\n",
      "\n",
      "    accuracy                           0.91       827\n",
      "   macro avg       0.82      0.85      0.83       827\n",
      "weighted avg       0.91      0.91      0.91       827\n",
      "\n"
     ]
    },
    {
     "name": "stderr",
     "output_type": "stream",
     "text": [
      "Saving model checkpoint to ../logs/sentiment_experiments/ruroberta_runews_2class_512/checkpoint-6510\n",
      "Configuration saved in ../logs/sentiment_experiments/ruroberta_runews_2class_512/checkpoint-6510/config.json\n",
      "Model weights saved in ../logs/sentiment_experiments/ruroberta_runews_2class_512/checkpoint-6510/pytorch_model.bin\n",
      "***** Running Evaluation *****\n",
      "  Num examples = 827\n",
      "  Batch size = 8\n"
     ]
    },
    {
     "name": "stdout",
     "output_type": "stream",
     "text": [
      "              precision    recall  f1-score   support\n",
      "\n",
      "           0       0.76      0.65      0.70       134\n",
      "           1       0.93      0.96      0.95       693\n",
      "\n",
      "    accuracy                           0.91       827\n",
      "   macro avg       0.85      0.80      0.82       827\n",
      "weighted avg       0.91      0.91      0.91       827\n",
      "\n"
     ]
    },
    {
     "name": "stderr",
     "output_type": "stream",
     "text": [
      "Saving model checkpoint to ../logs/sentiment_experiments/ruroberta_runews_2class_512/checkpoint-7440\n",
      "Configuration saved in ../logs/sentiment_experiments/ruroberta_runews_2class_512/checkpoint-7440/config.json\n",
      "Model weights saved in ../logs/sentiment_experiments/ruroberta_runews_2class_512/checkpoint-7440/pytorch_model.bin\n",
      "***** Running Evaluation *****\n",
      "  Num examples = 827\n",
      "  Batch size = 8\n"
     ]
    },
    {
     "name": "stdout",
     "output_type": "stream",
     "text": [
      "              precision    recall  f1-score   support\n",
      "\n",
      "           0       0.68      0.76      0.72       134\n",
      "           1       0.95      0.93      0.94       693\n",
      "\n",
      "    accuracy                           0.90       827\n",
      "   macro avg       0.81      0.85      0.83       827\n",
      "weighted avg       0.91      0.90      0.90       827\n",
      "\n"
     ]
    },
    {
     "name": "stderr",
     "output_type": "stream",
     "text": [
      "Saving model checkpoint to ../logs/sentiment_experiments/ruroberta_runews_2class_512/checkpoint-8370\n",
      "Configuration saved in ../logs/sentiment_experiments/ruroberta_runews_2class_512/checkpoint-8370/config.json\n",
      "Model weights saved in ../logs/sentiment_experiments/ruroberta_runews_2class_512/checkpoint-8370/pytorch_model.bin\n",
      "***** Running Evaluation *****\n",
      "  Num examples = 827\n",
      "  Batch size = 8\n"
     ]
    },
    {
     "name": "stdout",
     "output_type": "stream",
     "text": [
      "              precision    recall  f1-score   support\n",
      "\n",
      "           0       0.69      0.75      0.72       134\n",
      "           1       0.95      0.94      0.94       693\n",
      "\n",
      "    accuracy                           0.91       827\n",
      "   macro avg       0.82      0.84      0.83       827\n",
      "weighted avg       0.91      0.91      0.91       827\n",
      "\n"
     ]
    },
    {
     "name": "stderr",
     "output_type": "stream",
     "text": [
      "Saving model checkpoint to ../logs/sentiment_experiments/ruroberta_runews_2class_512/checkpoint-9300\n",
      "Configuration saved in ../logs/sentiment_experiments/ruroberta_runews_2class_512/checkpoint-9300/config.json\n",
      "Model weights saved in ../logs/sentiment_experiments/ruroberta_runews_2class_512/checkpoint-9300/pytorch_model.bin\n",
      "\n",
      "\n",
      "Training completed. Do not forget to share your model on huggingface.co/models =)\n",
      "\n",
      "\n"
     ]
    },
    {
     "data": {
      "text/plain": [
       "TrainOutput(global_step=9300, training_loss=0.16440595032066427, metrics={'train_runtime': 5454.9307, 'train_samples_per_second': 13.632, 'train_steps_per_second': 1.705, 'total_flos': 6.929841617707008e+16, 'train_loss': 0.16440595032066427, 'epoch': 10.0})"
      ]
     },
     "execution_count": 11,
     "metadata": {},
     "output_type": "execute_result"
    }
   ],
   "source": [
    "trainer.train()"
   ]
  },
  {
   "cell_type": "code",
   "execution_count": null,
   "id": "f146b127",
   "metadata": {},
   "outputs": [],
   "source": []
  }
 ],
 "metadata": {
  "kernelspec": {
   "display_name": "Python 3 (ipykernel)",
   "language": "python",
   "name": "python3"
  },
  "language_info": {
   "codemirror_mode": {
    "name": "ipython",
    "version": 3
   },
   "file_extension": ".py",
   "mimetype": "text/x-python",
   "name": "python",
   "nbconvert_exporter": "python",
   "pygments_lexer": "ipython3",
   "version": "3.9.12"
  },
  "vscode": {
   "interpreter": {
    "hash": "e97e4f504bfb679607ca0995ac41562bce4173aa428efcee2ee72fd6630f14a8"
   }
  }
 },
 "nbformat": 4,
 "nbformat_minor": 5
}
